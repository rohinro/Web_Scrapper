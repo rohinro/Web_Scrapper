{
 "cells": [
  {
   "cell_type": "code",
   "execution_count": 1,
   "id": "b04de3af",
   "metadata": {},
   "outputs": [
    {
     "name": "stdout",
     "output_type": "stream",
     "text": [
      "Enter the url: https://www.programiz.com/python-programming/examples/armstrong-number\n"
     ]
    }
   ],
   "source": [
    "import urllib.request\n",
    "from bs4 import BeautifulSoup\n",
    "\n",
    "\n",
    "class Scraper:\n",
    "    def __init__(self, site):\n",
    "        self.site = site\n",
    "\n",
    "    def scrape(self):\n",
    "        rep = urllib.request.urlopen(self.site)\n",
    "        html = rep.read()\n",
    "        parser = \"html.parser\"\n",
    "        sp = BeautifulSoup(html,parser)\n",
    "        for tag in sp.find_all(\"a\"):\n",
    "            url = tag.get(\"href\")\n",
    "            if url is None:\n",
    "                continue\n",
    "            if \"articles\" in url:\n",
    "                print(\"\\n\" + url)\n",
    "\n",
    "news = input(\"Enter the url: \")\n",
    "Scraper(news).scrape()"
   ]
  }
 ],
 "metadata": {
  "kernelspec": {
   "display_name": "Python 3",
   "language": "python",
   "name": "python3"
  },
  "language_info": {
   "codemirror_mode": {
    "name": "ipython",
    "version": 3
   },
   "file_extension": ".py",
   "mimetype": "text/x-python",
   "name": "python",
   "nbconvert_exporter": "python",
   "pygments_lexer": "ipython3",
   "version": "3.8.8"
  }
 },
 "nbformat": 4,
 "nbformat_minor": 5
}
